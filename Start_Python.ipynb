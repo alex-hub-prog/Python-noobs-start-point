{
 "cells": [
  {
   "cell_type": "markdown",
   "metadata": {},
   "source": [
    "### Exercise 1\n",
    "\n",
    "Given an array of integers and a target value, return indices of the two numbers such that they add up to the target."
   ]
  },
  {
   "cell_type": "code",
   "execution_count": 39,
   "metadata": {},
   "outputs": [
    {
     "name": "stdout",
     "output_type": "stream",
     "text": [
      "0 8\n",
      "3 6\n",
      "4 7\n",
      "5 5\n",
      "6 3\n",
      "7 4\n",
      "8 0\n"
     ]
    }
   ],
   "source": [
    "A = [5, 6, 7, 9, 8, 10, 11, 12, 15] # list of numbers\n",
    "target = 20 # target number\n",
    "for j in range(len(A)): # loop through all elements in A\n",
    "    for i in range(len(A)): # loop through all elements in A\n",
    "        if A[i] + A[j] == target: # check if the sum of two elements is equal to the target\n",
    "            print(j, i) # print the indices of the two elements"
   ]
  },
  {
   "cell_type": "markdown",
   "metadata": {},
   "source": [
    "### Exercise 2\n",
    "\n",
    "Given an integer array nums, find the subarray with the largest sum, and return its sum."
   ]
  },
  {
   "cell_type": "code",
   "execution_count": 20,
   "metadata": {},
   "outputs": [
    {
     "name": "stdout",
     "output_type": "stream",
     "text": [
      "Nothing done.\n"
     ]
    }
   ],
   "source": [
    "reset()\n"
   ]
  },
  {
   "cell_type": "code",
   "execution_count": 64,
   "metadata": {},
   "outputs": [
    {
     "name": "stdout",
     "output_type": "stream",
     "text": [
      "The max subarray of this arry  is: 26\n"
     ]
    }
   ],
   "source": [
    "def maxSubarraySum(arr):\n",
    "    res = arr[0]\n",
    "  \n",
    "    # Outer loop for starting point of subarray\n",
    "    for i in range(len(arr)):\n",
    "        currSum = 0\n",
    "      \n",
    "        # Inner loop for ending point of subarray\n",
    "        for j in range(i, len(arr)):\n",
    "            currSum = currSum + arr[j]\n",
    "          \n",
    "            # Update res if currSum is greater than res\n",
    "            res = max(res, currSum)\n",
    "          \n",
    "    return res\n",
    "\n",
    "if __name__ == \"__main__\":\n",
    "    arr = [6, 7, 2, 3, -8, 5, 7, -1, 2, 3]\n",
    "    print(f\"The max subarray of this arry  is: {maxSubarraySum(arr)}\")\n"
   ]
  },
  {
   "cell_type": "markdown",
   "metadata": {},
   "source": [
    "### Exercise 3\n",
    "\n",
    "Given an array nums with n objects colored red, white and blue. Sort them inplace so that the objects of the same colors are adjacent, with the colors in order red, white and blue."
   ]
  },
  {
   "cell_type": "markdown",
   "metadata": {},
   "source": []
  },
  {
   "cell_type": "code",
   "execution_count": 59,
   "metadata": {},
   "outputs": [
    {
     "name": "stdout",
     "output_type": "stream",
     "text": [
      "0 0 0 1 1 1 1 1 2 2 2 2 2 "
     ]
    }
   ],
   "source": [
    "def sort_obj(arr):\n",
    "    n = len(arr)\n",
    "    l = 0\n",
    "    hi = n - 1\n",
    "    mid = 0\n",
    "\n",
    "    # Iterate till all the elements are sorted\n",
    "    while mid <= hi:\n",
    "      if arr[mid] == 0:\n",
    "        arr[l], arr[mid] = arr[mid], arr[l]\n",
    "        l += 1\n",
    "        mid += 1\n",
    "        \n",
    "      elif arr[mid] == 1:\n",
    "        mid += 1\n",
    "        \n",
    "      else:\n",
    "        arr[mid], arr[hi] = arr[hi], arr[mid]\n",
    "        hi -= 1\n",
    "        \n",
    "    return arr\n",
    "\n",
    "arr = [0, 1, 0,2, 2, 1, 1, 1, 2, 2, 0, 1, 2]\n",
    "arr = sort_obj(arr)\n",
    "\n",
    "for x in arr:\n",
    "    print(x, end=\" \")"
   ]
  },
  {
   "cell_type": "markdown",
   "metadata": {},
   "source": [
    "#### Exercise 9\n",
    "\n",
    "Given a string s, Let's find all the substrings of s that forms the palindorms."
   ]
  },
  {
   "cell_type": "code",
   "execution_count": 65,
   "metadata": {},
   "outputs": [
    {
     "name": "stdout",
     "output_type": "stream",
     "text": [
      "addbbcbbdda\n",
      "bbcbb\n",
      "a\n",
      "aa\n",
      "aaddbbcbbddaa\n",
      "dbbcbbd\n",
      "d\n",
      "dd\n",
      "b\n",
      "c\n",
      "bcb\n",
      "ddbbcbbdd\n",
      "bb\n",
      "Total number of distinct palindromes is 13\n"
     ]
    }
   ],
   "source": [
    "def find_palindromes(s):\n",
    "    n = len(s)\n",
    "    palindromes = set()\n",
    "\n",
    "    # Check for odd length palindromes\n",
    "    for i in range(n):\n",
    "        left = right = i\n",
    "        while left >= 0 and right < n and s[left] == s[right]:\n",
    "            palindromes.add(s[left:right + 1])\n",
    "            left -= 1\n",
    "            right += 1\n",
    "\n",
    "    # Check for even length palindromes\n",
    "    for i in range(n - 1):\n",
    "        left = i\n",
    "        right = i + 1\n",
    "        while left >= 0 and right < n and s[left] == s[right]:\n",
    "            palindromes.add(s[left:right + 1])\n",
    "            left -= 1\n",
    "            right += 1\n",
    "\n",
    "    # Print all distinct palindromes\n",
    "    for palindrome in palindromes:\n",
    "        print(palindrome)\n",
    "\n",
    "    print(\"Total number of distinct palindromes is {}\".format(len(palindromes)))\n",
    "\n",
    "\n",
    "# Example usage:\n",
    "s1 = \"aaddbbcbbddaa\"\n",
    "find_palindromes(s1)\n"
   ]
  },
  {
   "cell_type": "markdown",
   "metadata": {},
   "source": [
    "#### Exercise 10\n",
    "\n",
    "Given two strings s and p of lenght m, k , let's find the minimum substring of s containing all the charactersof p, regardless of the order."
   ]
  },
  {
   "cell_type": "code",
   "execution_count": 67,
   "metadata": {},
   "outputs": [
    {
     "name": "stdout",
     "output_type": "stream",
     "text": [
      "forprotec\n"
     ]
    }
   ],
   "source": [
    "def smallest_window(s, p):\n",
    "    len1 = len(s) \n",
    "    len2 = len(p) \n",
    "\n",
    "    # Check if string's length is less than P's length\n",
    "    if len1 < len2:\n",
    "        return \"-1\"  \n",
    "\n",
    "    # Hash for characters in P\n",
    "    hashP = [0] * 256   # An array to count occurrences of each character in P\n",
    "    # Hash for characters in S\n",
    "    hashS = [0] * 256  # An array to count occurrences of each character in S\n",
    "\n",
    "    # Store occurrence of characters of P\n",
    "    for char in p:\n",
    "        hashP[ord(char)] += 1\n",
    "\n",
    "    start = 0\n",
    "    start_idx = -1\n",
    "    min_len = float('inf')  \n",
    "    # Count of matched characters\n",
    "    count = 0  \n",
    "\n",
    "    # Start traversing the string S\n",
    "    for j in range(len1):\n",
    "        # Count occurrence of characters of string S\n",
    "        hashS[ord(s[j])] += 1\n",
    "\n",
    "        # If S's char matches with P's char, increment count\n",
    "        if hashP[ord(s[j])] != 0 and hashS[ord(s[j])] <= hashP[ord(s[j])]:\n",
    "            count += 1\n",
    "\n",
    "        # If all characters are matched\n",
    "        if count == len2:\n",
    "            # Try to minimize the window\n",
    "            while hashS[ord(s[start])] > hashP[ord(s[start])] or hashP[ord(s[start])] == 0:\n",
    "                if hashS[ord(s[start])] > hashP[ord(s[start])]:\n",
    "                    hashS[ord(s[start])] -= 1\n",
    "                start += 1\n",
    "\n",
    "            # Update window size\n",
    "            lenn = j - start + 1\n",
    "            if min_len > lenn:\n",
    "                min_len = lenn\n",
    "                # Update starting index\n",
    "                start_idx = start  \n",
    "\n",
    "    # If no window found\n",
    "    if start_idx == -1:\n",
    "        return \"-1\"  \n",
    "\n",
    "    # Return the substring starting from start_idx and length min_len\n",
    "    return s[start_idx:start_idx + min_len]\n",
    "\n",
    "s = \"liveforprotection\"\n",
    "p = \"profc\"\n",
    "result = smallest_window(s, p)\n",
    "print(result)"
   ]
  },
  {
   "cell_type": "code",
   "execution_count": null,
   "metadata": {},
   "outputs": [],
   "source": []
  }
 ],
 "metadata": {
  "kernelspec": {
   "display_name": "Python 3",
   "language": "python",
   "name": "python3"
  },
  "language_info": {
   "codemirror_mode": {
    "name": "ipython",
    "version": 3
   },
   "file_extension": ".py",
   "mimetype": "text/x-python",
   "name": "python",
   "nbconvert_exporter": "python",
   "pygments_lexer": "ipython3",
   "version": "3.12.5"
  }
 },
 "nbformat": 4,
 "nbformat_minor": 2
}
